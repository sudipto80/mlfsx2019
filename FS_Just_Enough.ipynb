{
 "cells": [
  {
   "cell_type": "markdown",
   "metadata": {},
   "source": [
    "## A super fast brush-up of `F#`\n",
    "A just enough F# refresher for those among us who are totally new to the language"
   ]
  },
  {
   "cell_type": "markdown",
   "metadata": {},
   "source": [
    "### Arrays "
   ]
  },
  {
   "cell_type": "code",
   "execution_count": null,
   "metadata": {},
   "outputs": [],
   "source": [
    "//Creating an integer array with some random integers\n",
    "let xs = [|23;344;1;3;45;65|]\n"
   ]
  },
  {
   "cell_type": "code",
   "execution_count": null,
   "metadata": {},
   "outputs": [],
   "source": [
    "//Static type in action\n",
    "//Try changing the Array.filter to List.filer and see what happens\n",
    "//Can you explain why ?\n",
    "xs |> Array.filter (fun t -> t % 5 = 0)"
   ]
  },
  {
   "cell_type": "markdown",
   "metadata": {},
   "source": [
    "### Lists\n"
   ]
  },
  {
   "cell_type": "code",
   "execution_count": null,
   "metadata": {},
   "outputs": [],
   "source": [
    "//Creating an integer list with some random numbers\n",
    "let xs_list = [3;5;4;25]\n"
   ]
  },
  {
   "cell_type": "markdown",
   "metadata": {},
   "source": [
    "### Accessing array and List items by indexing"
   ]
  },
  {
   "cell_type": "code",
   "execution_count": null,
   "metadata": {},
   "outputs": [],
   "source": [
    "//Accessing array and List element\n",
    "printfn \"second element in xs is %d\" xs.[1]\n",
    "printfn \"second element in xs_list is %d\" xs_list.[1]"
   ]
  },
  {
   "cell_type": "markdown",
   "metadata": {},
   "source": [
    "### Defining a function "
   ]
  },
  {
   "cell_type": "code",
   "execution_count": null,
   "metadata": {},
   "outputs": [],
   "source": [
    "//Defining and calling a function\n",
    "let Add2AndSquare x = (x + 2.) ** 2. \n",
    "Add2AndSquare 3."
   ]
  },
  {
   "cell_type": "markdown",
   "metadata": {},
   "source": [
    "### The Pipe "
   ]
  },
  {
   "cell_type": "code",
   "execution_count": null,
   "metadata": {},
   "outputs": [],
   "source": [
    "![](img\\\\fsharp-pipe-i-love.jpg)"
   ]
  },
  {
   "cell_type": "markdown",
   "metadata": {},
   "source": [
    "### Recursive function definition using pattern matching"
   ]
  },
  {
   "cell_type": "code",
   "execution_count": 4,
   "metadata": {},
   "outputs": [
    {
     "data": {
      "text/plain": [
       "[1; 2; 3; 5; 8; 13; 21; 34; 55; 89; 144]"
      ]
     },
     "execution_count": 4,
     "metadata": {},
     "output_type": "execute_result"
    }
   ],
   "source": [
    "//Fibonacci number generation\n",
    "let rec fib n = \n",
    "    match n with \n",
    "          | 1 -> 1\n",
    "          | 0 -> 1\n",
    "          | _ -> fib (n - 1 ) + fib (n - 2)\n",
    "\n",
    "//calling the generator\n",
    "[1 .. 11] |> List.map fib// ( fun t -> fib t)\n"
   ]
  },
  {
   "cell_type": "markdown",
   "metadata": {},
   "source": [
    "### `map` Function"
   ]
  },
  {
   "cell_type": "code",
   "execution_count": null,
   "metadata": {},
   "outputs": [],
   "source": [
    "[1 .. 10] |> List.map (fun t -> t + 1)"
   ]
  },
  {
   "cell_type": "code",
   "execution_count": null,
   "metadata": {},
   "outputs": [],
   "source": [
    "//Defining a function\n",
    "let sqr x = x * x\n"
   ]
  },
  {
   "cell_type": "markdown",
   "metadata": {},
   "source": [
    "### Defining a function and using it with `map`"
   ]
  },
  {
   "cell_type": "code",
   "execution_count": null,
   "metadata": {},
   "outputs": [],
   "source": [
    "sqr"
   ]
  },
  {
   "cell_type": "code",
   "execution_count": null,
   "metadata": {},
   "outputs": [],
   "source": [
    "[1 .. 10] |> List.map (fun t -> (t , sqr t))"
   ]
  },
  {
   "cell_type": "markdown",
   "metadata": {},
   "source": [
    "### `filter` function "
   ]
  },
  {
   "cell_type": "code",
   "execution_count": null,
   "metadata": {},
   "outputs": [],
   "source": [
    "//Just the even numbers\n",
    "[1 .. 10] |> List.filter (fun t -> t % 2 = 0)"
   ]
  },
  {
   "cell_type": "code",
   "execution_count": null,
   "metadata": {},
   "outputs": [],
   "source": [
    "//Passing a function to filter with \n",
    "let isEven x = x % 2 = 0\n",
    "[1 .. 10] |> List.filter isEven"
   ]
  },
  {
   "cell_type": "markdown",
   "metadata": {},
   "source": [
    "### `countBy` function"
   ]
  },
  {
   "cell_type": "code",
   "execution_count": null,
   "metadata": {},
   "outputs": [],
   "source": [
    "let numbers =[[1 .. 5];[2 .. 7]]|> List.concat \n",
    "numbers"
   ]
  },
  {
   "cell_type": "code",
   "execution_count": null,
   "metadata": {},
   "outputs": [],
   "source": [
    "numbers |> List.countBy (fun t -> t)\n",
    "numbers |> List.countBy (fun t -> t % 2 = 0)"
   ]
  },
  {
   "cell_type": "markdown",
   "metadata": {},
   "source": [
    "### Tuple "
   ]
  },
  {
   "cell_type": "code",
   "execution_count": null,
   "metadata": {},
   "outputs": [],
   "source": [
    "//Creation\n",
    "let sudipta = (\"Sudipta\", 2016, \"Roslyn\")\n",
    "//Destructuring \n",
    "let (name, year_of_joining, expertise ) = sudipta"
   ]
  },
  {
   "cell_type": "code",
   "execution_count": null,
   "metadata": {},
   "outputs": [],
   "source": [
    "name"
   ]
  },
  {
   "cell_type": "code",
   "execution_count": null,
   "metadata": {},
   "outputs": [],
   "source": [
    "year_of_joining "
   ]
  },
  {
   "cell_type": "code",
   "execution_count": null,
   "metadata": {},
   "outputs": [],
   "source": [
    "expertise"
   ]
  },
  {
   "cell_type": "code",
   "execution_count": null,
   "metadata": {},
   "outputs": [],
   "source": [
    "sudipta"
   ]
  },
  {
   "cell_type": "code",
   "execution_count": null,
   "metadata": {},
   "outputs": [],
   "source": [
    "let location = (34,24)"
   ]
  },
  {
   "cell_type": "markdown",
   "metadata": {},
   "source": [
    "### Introducing `fst` and `snd` method to access Tuple attributes"
   ]
  },
  {
   "cell_type": "code",
   "execution_count": null,
   "metadata": {},
   "outputs": [],
   "source": [
    "let x_axis = fst location\n",
    "let y_axis = snd location\n",
    "printfn \"The location is %d km on X axis and %d km on Y axis\" x_axis y_axis"
   ]
  },
  {
   "cell_type": "code",
   "execution_count": null,
   "metadata": {},
   "outputs": [],
   "source": [
    "//Going nested \n",
    "let something = (\"A\",(\"B\",(1,3)))\n",
    "//getting \"A\"\n",
    "printfn \"%s\" (fst something)\n",
    "//getting \"B\"\n",
    "printfn \"%s\" (fst (snd something))\n",
    "//getting \"1\"\n",
    "printfn \"%d\" (fst  (snd (snd something)))\n",
    "//TODO for you \n",
    "//write expression to get to \"3\"\n",
    "printfn \"%d\" "
   ]
  },
  {
   "cell_type": "markdown",
   "metadata": {},
   "source": [
    "\n",
    "### `sumBy` method"
   ]
  },
  {
   "cell_type": "code",
   "execution_count": null,
   "metadata": {},
   "outputs": [],
   "source": [
    "[1 .. 10] |> List.sumBy (fun t -> sqrt (float t))"
   ]
  },
  {
   "cell_type": "markdown",
   "metadata": {},
   "source": [
    "### `averageBy` method"
   ]
  },
  {
   "cell_type": "code",
   "execution_count": null,
   "metadata": {},
   "outputs": [],
   "source": [
    "let givenPairs = [(\"A\",12.);(\"B\",21.);(\"C\",32.);(\"D\",20.)]\n",
    "givenPairs |> List.averageBy snd"
   ]
  },
  {
   "cell_type": "markdown",
   "metadata": {},
   "source": [
    "### `zip` method"
   ]
  },
  {
   "cell_type": "markdown",
   "metadata": {},
   "source": [
    "![](https://media.tenor.com/images/92e5901ce15219d9d4b08aaff1d91a1a/tenor.gif)"
   ]
  },
  {
   "cell_type": "code",
   "execution_count": null,
   "metadata": {},
   "outputs": [],
   "source": [
    "let xvals = [1 .. 10]"
   ]
  },
  {
   "cell_type": "code",
   "execution_count": null,
   "metadata": {},
   "outputs": [],
   "source": [
    "let squares = xvals |> List.map sqr "
   ]
  },
  {
   "cell_type": "code",
   "execution_count": null,
   "metadata": {},
   "outputs": [],
   "source": [
    "let pairs = List.zip xvals squares"
   ]
  },
  {
   "cell_type": "code",
   "execution_count": null,
   "metadata": {},
   "outputs": [],
   "source": [
    "pairs"
   ]
  },
  {
   "cell_type": "code",
   "execution_count": null,
   "metadata": {},
   "outputs": [],
   "source": [
    "//names \n",
    "let names = [\"John\";\"Mary\";\"Jennifer\";\"Nancy\";\"Jeorge\"]\n",
    "//salutations\n",
    "let salutations = [\"Mr.\"; \"Mrs.\"; \"Ms.\";\"Ms.\";\"Master.\" ]\n",
    "\n",
    "printfn \"%A\" (List.zip salutations names)\n",
    "let smithFamily = List.zip salutations names \n",
    "\n",
    "                  |> List.map \n",
    "                   (fun pair -> fst pair + \" \" + snd pair + \" Smith\")\n",
    "                   \n",
    "smithFamily |> List.iter (fun name -> printfn \"%s\" name)"
   ]
  },
  {
   "cell_type": "markdown",
   "metadata": {},
   "source": [
    "### Casting"
   ]
  },
  {
   "cell_type": "code",
   "execution_count": null,
   "metadata": {},
   "outputs": [],
   "source": [
    "//Casting integer to float \n",
    "let x = 10\n",
    "printfn \"%f \" (float x)"
   ]
  },
  {
   "cell_type": "code",
   "execution_count": null,
   "metadata": {},
   "outputs": [],
   "source": [
    "//casting float to integer \n",
    "let p = 3.14159\n",
    "printfn \"%d\" (int p)"
   ]
  },
  {
   "cell_type": "markdown",
   "metadata": {},
   "source": [
    "### Function application "
   ]
  },
  {
   "cell_type": "code",
   "execution_count": null,
   "metadata": {},
   "outputs": [],
   "source": [
    "let f x = x + 1\n",
    "let g x = x + 2\n",
    "let h x = x + 3\n",
    "//Use brackets only to remove ambiguity \n",
    "//otherwise not required \n",
    "//applying f\n",
    "let f_applied = f 4\n",
    "printfn \"%d\" f_applied\n",
    "let fog x = f (g x)\n",
    "let hfog x  = h (f (g x))\n",
    "printfn \"%A\" (hfog 4)"
   ]
  },
  {
   "cell_type": "markdown",
   "metadata": {},
   "source": [
    "### Function composition "
   ]
  },
  {
   "cell_type": "code",
   "execution_count": null,
   "metadata": {},
   "outputs": [],
   "source": [
    "let fog2 = f >> g"
   ]
  },
  {
   "cell_type": "code",
   "execution_count": null,
   "metadata": {},
   "outputs": [],
   "source": [
    "fog2 4"
   ]
  },
  {
   "cell_type": "markdown",
   "metadata": {},
   "source": [
    "## Function Returing Tuples"
   ]
  },
  {
   "cell_type": "code",
   "execution_count": null,
   "metadata": {},
   "outputs": [],
   "source": []
  }
 ],
 "metadata": {
  "kernelspec": {
   "display_name": "F#",
   "language": "fsharp",
   "name": "ifsharp"
  },
  "language": "fsharp",
  "language_info": {
   "codemirror_mode": "",
   "file_extension": ".fs",
   "mimetype": "text/x-fsharp",
   "name": "fsharp",
   "nbconvert_exporter": "",
   "pygments_lexer": "",
   "version": "4.3.1.0"
  }
 },
 "nbformat": 4,
 "nbformat_minor": 2
}
