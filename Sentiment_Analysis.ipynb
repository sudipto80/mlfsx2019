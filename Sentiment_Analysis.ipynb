{
 "cells": [
  {
   "cell_type": "markdown",
   "metadata": {},
   "source": [
    "# Sentiment Analysis \n",
    "#### Telling happy and unhappy people apart automatically"
   ]
  },
  {
   "cell_type": "markdown",
   "metadata": {},
   "source": [
    "![](img/sentiment_analysis.jpg)"
   ]
  },
  {
   "cell_type": "markdown",
   "metadata": {},
   "source": [
    "![](img/SentiWordNet.png)"
   ]
  },
  {
   "cell_type": "markdown",
   "metadata": {},
   "source": [
    "## Step 1 : Create a type to represent the row"
   ]
  },
  {
   "cell_type": "code",
   "execution_count": null,
   "metadata": {},
   "outputs": [],
   "source": [
    "//Creating a type to represent each row in the SentiWordNet list \n",
    "type SentiWordNetEntry = {\n",
    "                            POS : string;\n",
    "                            ID  : string;\n",
    "                            PositiveScore:string;\n",
    "                            NegativeScore:string;\n",
    "                            Words:string\n",
    "                         }"
   ]
  },
  {
   "cell_type": "markdown",
   "metadata": {},
   "source": [
    "### Step 2: Creating the <font color='red'>_in-memory_</font> representation of the SentiWordNet"
   ]
  },
  {
   "cell_type": "markdown",
   "metadata": {},
   "source": [
    "In this step we shall load all the words and their polarity score in an in-memory collection"
   ]
  },
  {
   "cell_type": "code",
   "execution_count": null,
   "metadata": {},
   "outputs": [],
   "source": [
    "open System.IO"
   ]
  },
  {
   "cell_type": "code",
   "execution_count": null,
   "metadata": {},
   "outputs": [],
   "source": [
    "let sentiWordList = System.IO.File.ReadAllLines(@\"C:\\FSX_TALK\\SentimentAnalysis\\SentiWordNet_3.0.0.txt\") \n",
    "                       |> Array.filter(fun line -> not (line.StartsWith \"#\"))\n",
    "                       |> Array.map (fun line -> line.Split '\\t')\n",
    "                       |> Array.filter (fun tokens -> tokens.Length >= 5)\n",
    "                       |> Array.map (fun lineTokens -> {POS = lineTokens.[0];\n",
    "                                                       ID = lineTokens.[1];\n",
    "                                                       PositiveScore = lineTokens.[2].Trim();\n",
    "                                                        NegativeScore = lineTokens.[3].Trim();\n",
    "                                                       Words  = lineTokens.[4]})\n",
    "                       |> Array.map (fun item -> [item.Words.Substring(0,item.Words.LastIndexOf('#') + 1);\n",
    "                                                  item.PositiveScore;item.NegativeScore])                                "
   ]
  },
  {
   "cell_type": "code",
   "execution_count": null,
   "metadata": {},
   "outputs": [],
   "source": [
    "sentiWordList |> Array.take 5"
   ]
  },
  {
   "cell_type": "code",
   "execution_count": null,
   "metadata": {},
   "outputs": [],
   "source": [
    "sentiWordList |> Array.length"
   ]
  },
  {
   "cell_type": "markdown",
   "metadata": {},
   "source": [
    "### Step 3: Create a function to get the <font color=\"red\">pol</font><font color=\"green\">arity</font> of a given word"
   ]
  },
  {
   "cell_type": "code",
   "execution_count": null,
   "metadata": {},
   "outputs": [],
   "source": [
    " let getPolarity (sentiWordNetList : string list[] ) word =\n",
    "     let matchedItem = sentiWordList |> Array.filter (fun item -> item.[0].Contains word)\n",
    "     match matchedItem.Length with\n",
    "         | 0 -> (0.,0.) //No value found \n",
    "         | _ -> (float matchedItem.[0].[1] , float matchedItem.[0].[2])"
   ]
  },
  {
   "cell_type": "markdown",
   "metadata": {},
   "source": [
    "The following cells show some examples of how to get the individual polarity of some words"
   ]
  },
  {
   "cell_type": "code",
   "execution_count": null,
   "metadata": {},
   "outputs": [],
   "source": [
    "getPolarity sentiWordList \"good\""
   ]
  },
  {
   "cell_type": "code",
   "execution_count": null,
   "metadata": {},
   "outputs": [],
   "source": [
    "getPolarity sentiWordList \"bad\""
   ]
  },
  {
   "cell_type": "code",
   "execution_count": null,
   "metadata": {},
   "outputs": [],
   "source": [
    "getPolarity sentiWordList \"ugly\""
   ]
  },
  {
   "cell_type": "code",
   "execution_count": null,
   "metadata": {},
   "outputs": [],
   "source": [
    "getPolarity sentiWordList \"fantastic\""
   ]
  },
  {
   "cell_type": "markdown",
   "metadata": {},
   "source": [
    "### Step 4 : Create a function to find polarity of a sentence"
   ]
  },
  {
   "cell_type": "code",
   "execution_count": null,
   "metadata": {},
   "outputs": [],
   "source": [
    "let getPolarityScore (sentence:string) (sentiWordNetList:string list[]) =\n",
    "    let words = sentence.Split ' '\n",
    "    let polarities = words |> Array.map (fun word -> getPolarity sentiWordNetList word)\n",
    "    \n",
    "    let totalPositivity =  polarities |> Array.map fst |> Array.sum \n",
    "    let totalNegativity =  polarities |> Array.map snd |> Array.sum \n",
    "    \n",
    "    printfn \"Positive polarity of this sentence is %f \" totalPositivity\n",
    "    printfn \"Negative polarity of this sentence is %f \" totalNegativity\n",
    "    \n",
    "    if totalPositivity > totalNegativity then 1\n",
    "    elif totalNegativity = totalPositivity then 0\n",
    "    else -1"
   ]
  },
  {
   "cell_type": "code",
   "execution_count": null,
   "metadata": {},
   "outputs": [],
   "source": [
    "getPolarityScore \"I love this product I thought the camera will be much better though\" sentiWordList"
   ]
  },
  {
   "cell_type": "code",
   "execution_count": null,
   "metadata": {},
   "outputs": [],
   "source": [
    "getPolarityScore \"don't buy this drug . it gave me a bummer\" sentiWordList"
   ]
  },
  {
   "cell_type": "code",
   "execution_count": null,
   "metadata": {},
   "outputs": [],
   "source": [
    "getPolarityScore \"what an awesome service\" sentiWordList"
   ]
  },
  {
   "cell_type": "code",
   "execution_count": null,
   "metadata": {},
   "outputs": [],
   "source": [
    "getPolarity sentiWordList \"though\""
   ]
  },
  {
   "cell_type": "code",
   "execution_count": null,
   "metadata": {},
   "outputs": [],
   "source": [
    "let showParts (sentence:string) =\n",
    "    let words = sentence.Split ' '\n",
    "    let pairs = words |> Array.map (fun w -> (w, getPolarity sentiWordList w))\n",
    "    pairs"
   ]
  },
  {
   "cell_type": "markdown",
   "metadata": {},
   "source": [
    "### Some samples from the real world "
   ]
  },
  {
   "cell_type": "code",
   "execution_count": null,
   "metadata": {},
   "outputs": [],
   "source": [
    "getPolarityScore \"just booked my flight to london very excited to be able to be at the #fsharpx!\" sentiWordList"
   ]
  },
  {
   "cell_type": "code",
   "execution_count": null,
   "metadata": {},
   "outputs": [],
   "source": [
    "showParts \"just booked my flight to london very excited to be able to be at the #fsharpx!\""
   ]
  },
  {
   "cell_type": "code",
   "execution_count": null,
   "metadata": {},
   "outputs": [],
   "source": [
    "showParts \"Yeah, it is not something usual (yet). I had to do a lot of \\\"marketing\\\" to convince customers/colleagues to give F# a shot. My April talk on #FsharpX will be about how to possibly get there to have F# as daily job. :)\""
   ]
  },
  {
   "cell_type": "code",
   "execution_count": null,
   "metadata": {},
   "outputs": [],
   "source": [
    "getPolarityScore \"Yeah, it is not something usual (yet). I had to do a lot of \\\"marketing\\\" to convince customers/colleagues to give F# a shot. My April talk on #FsharpX will be about how to possibly get there to have F# as daily job. :)\" sentiWordList"
   ]
  },
  {
   "cell_type": "code",
   "execution_count": null,
   "metadata": {},
   "outputs": [],
   "source": [
    "getPolarityScore \"Worst network now a day of #airtel in delhi  I don't know what to do ?\" sentiWordList"
   ]
  },
  {
   "cell_type": "code",
   "execution_count": null,
   "metadata": {},
   "outputs": [],
   "source": [
    "getPolarityScore \"your customer service is the worst. I have been trying to contact your customer service since the morning and every time I select the correct option it says you have failed a wrong number. You have the worst customer service.\" sentiWordList"
   ]
  },
  {
   "cell_type": "code",
   "execution_count": null,
   "metadata": {},
   "outputs": [],
   "source": [
    "getPolarityScore \"good afternoon everyone ! It's MAGA Thursday and the march madness in the media , Democrat Party & swamp establishment continues! That means we're winning bigly\" sentiWordList"
   ]
  },
  {
   "cell_type": "code",
   "execution_count": null,
   "metadata": {},
   "outputs": [],
   "source": [
    "getPolarityScore \"On a scale 1-10 how much pain is a belly button piercing\" sentiWordList"
   ]
  },
  {
   "cell_type": "markdown",
   "metadata": {},
   "source": [
    "# Handling \"Negations\" "
   ]
  },
  {
   "cell_type": "markdown",
   "metadata": {},
   "source": [
    "![](https://www.mncatholic.org/wp-content/uploads/2016/05/Doubtful_Man_Shrugging_Shoulders1.jpg)"
   ]
  },
  {
   "cell_type": "markdown",
   "metadata": {},
   "source": [
    "> ### \"camera was not good\"\n",
    "This one echones a <b><font color=\"red\">_negative_</font></b> sentiment\n",
    "> ### \"camere was not bad\" \n",
    "This one echoes an <b><font color=\"green\">_Okish_</font></b> (almost positive) sentiment "
   ]
  },
  {
   "cell_type": "markdown",
   "metadata": {},
   "source": [
    "### A special function to get around the data "
   ]
  },
  {
   "cell_type": "code",
   "execution_count": null,
   "metadata": {},
   "outputs": [],
   "source": [
    "let isPositive (x:string) (y : string) =\n",
    "    let mutable fx = 0.0\n",
    "    let mutable fy = 0.0\n",
    "    if x.Contains(\".\") then \n",
    "        fx <- float x\n",
    "    if y.Contains(\".\") then \n",
    "        fy <- float y\n",
    "    fx - fy > 0. \n"
   ]
  },
  {
   "cell_type": "code",
   "execution_count": null,
   "metadata": {},
   "outputs": [],
   "source": [
    "isPositive"
   ]
  },
  {
   "cell_type": "code",
   "execution_count": null,
   "metadata": {},
   "outputs": [],
   "source": [
    "let allPositiveWords (sentiWordNetList : string list[]) = \n",
    "    sentiWordNetList \n",
    "        |> Array.filter(fun t -> isPositive t.[1] t.[2])\n",
    "        |> Array.map (fun t -> t.[0])"
   ]
  },
  {
   "cell_type": "code",
   "execution_count": null,
   "metadata": {},
   "outputs": [],
   "source": [
    "let allNegativeWords (sentiWordNetList : string list[]) = \n",
    "    sentiWordNetList \n",
    "        |> Array.filter(fun t -> not (isPositive t.[1] t.[2]))\n",
    "        |> Array.map (fun t -> t.[0])"
   ]
  },
  {
   "cell_type": "code",
   "execution_count": null,
   "metadata": {},
   "outputs": [],
   "source": [
    "sentiWordList.[0].[1]"
   ]
  },
  {
   "cell_type": "code",
   "execution_count": null,
   "metadata": {},
   "outputs": [],
   "source": [
    "sentiWordList |> Array.take 15"
   ]
  },
  {
   "cell_type": "code",
   "execution_count": null,
   "metadata": {},
   "outputs": [],
   "source": [
    "allPositiveWords sentiWordList |> Array.take 10"
   ]
  },
  {
   "cell_type": "code",
   "execution_count": null,
   "metadata": {},
   "outputs": [],
   "source": [
    "allNegativeWords sentiWordList |> Array.take 19"
   ]
  },
  {
   "cell_type": "code",
   "execution_count": null,
   "metadata": {},
   "outputs": [],
   "source": [
    "let delims = [|'#';' '|]\n",
    "let pos = allPositiveWords sentiWordList \n",
    "              |> Array.map (fun t -> t.Split delims \n",
    "                                     |> Array.filter (fun z -> \n",
    "                                         System.Text.RegularExpressions.Regex.Match(z,\"[a-zA-Z]+\").Success))"
   ]
  },
  {
   "cell_type": "code",
   "execution_count": null,
   "metadata": {},
   "outputs": [],
   "source": [
    "let neg = allNegativeWords sentiWordList \n",
    "              |> Array.map (fun t -> t.Split delims \n",
    "                                     |> Array.filter (fun z -> \n",
    "                                         System.Text.RegularExpressions.Regex.Match(z,\"[a-zA-Z]+\").Success))"
   ]
  },
  {
   "cell_type": "code",
   "execution_count": null,
   "metadata": {},
   "outputs": [],
   "source": [
    "neg |> Array.take 13"
   ]
  },
  {
   "cell_type": "code",
   "execution_count": null,
   "metadata": {},
   "outputs": [],
   "source": [
    "let mutable posList = [\"\"]\n",
    "let mutable negList = [\"\"]"
   ]
  },
  {
   "cell_type": "code",
   "execution_count": null,
   "metadata": {},
   "outputs": [],
   "source": [
    "printfn \"%d\" (pos |> Array.length)\n",
    "printfn \"%d\" (neg |> Array.length)\n",
    "\n",
    "let posList = pos |> Array.concat\n",
    "let negList = neg |> Array.concat\n",
    "posList"
   ]
  },
  {
   "cell_type": "code",
   "execution_count": null,
   "metadata": {},
   "outputs": [],
   "source": [
    " let getPolarity2 (sentiWordNetList : string list[] ) (word :string) =\n",
    "     let matchedItem = sentiWordList |> Array.filter (fun item -> item.[0].Contains word)\n",
    "     match matchedItem.Length with\n",
    "         | 0 -> if word = \"Negative_detected\" then (0.0,0.675)\n",
    "                elif word = \"Ok_detected\" then (0.125,0.0)\n",
    "                else (0.0,0.0) // No value found\n",
    "         | _ -> (float matchedItem.[0].[1] , float matchedItem.[0].[2])"
   ]
  },
  {
   "cell_type": "code",
   "execution_count": null,
   "metadata": {},
   "outputs": [],
   "source": [
    "let negations = [\"no\";\"not\";\"never\";\"seldom\";\"neither\";\"nor\"]\n",
    "let badCombos = negations |> Seq.collect(fun x -> posList |> Seq.map (fun y -> x + \" \" + y))\n",
    "//Camera was not bad\n",
    "let okCombos =  negations |> Seq.collect(fun x -> negList |> Seq.map (fun y -> x + \" \" + y))"
   ]
  },
  {
   "cell_type": "code",
   "execution_count": null,
   "metadata": {},
   "outputs": [],
   "source": [
    "badCombos |> Seq.toList |> Seq.contains \"never ugly\""
   ]
  },
  {
   "cell_type": "code",
   "execution_count": null,
   "metadata": {},
   "outputs": [],
   "source": [
    "badCombos |> Seq.toList"
   ]
  },
  {
   "cell_type": "code",
   "execution_count": null,
   "metadata": {},
   "outputs": [],
   "source": [
    "let preprocess (sentence : string) (badCombinations:string seq) (okCombinations : string seq) = \n",
    "    let mutable sen = sentence\n",
    "    \n",
    "    for badWordCombo in badCombinations do \n",
    "        sen <- sen.Replace(badWordCombo , \"Negative_detected\")\n",
    "    for okWordCombo in okCombinations do \n",
    "        sen <- sen.Replace(okWordCombo , \"Ok_detected\")\n",
    "    \n",
    "    sen"
   ]
  },
  {
   "cell_type": "code",
   "execution_count": null,
   "metadata": {},
   "outputs": [],
   "source": [
    "badCombos"
   ]
  },
  {
   "cell_type": "code",
   "execution_count": null,
   "metadata": {},
   "outputs": [],
   "source": [
    "getPolarity2 sentiWordList \"not good"
   ]
  },
  {
   "cell_type": "code",
   "execution_count": null,
   "metadata": {},
   "outputs": [],
   "source": [
    "let mutable remark = \"camera was not good\" \n",
    "remark <- preprocess remark badCombos okCombos\n",
    "remark"
   ]
  },
  {
   "cell_type": "code",
   "execution_count": null,
   "metadata": {},
   "outputs": [],
   "source": [
    "badCombos |> Seq.toList"
   ]
  },
  {
   "cell_type": "code",
   "execution_count": null,
   "metadata": {},
   "outputs": [],
   "source": [
    "posList |> Array.contains \"good\""
   ]
  },
  {
   "cell_type": "code",
   "execution_count": null,
   "metadata": {},
   "outputs": [],
   "source": [
    "let getPolarityScore2 (sentence:string) (sentiWordNetList:string list[]) =\n",
    "    let words = sentence.Split ' '\n",
    "    \n",
    "    let polarities = words |> Array.map (fun word -> getPolarity2 sentiWordNetList word)\n",
    "    let totalPositivity = polarities |> Array.map fst\n",
    "                                     |> Array.sum\n",
    "    let totalNegativity = polarities |> Array.map snd\n",
    "                                     |> Array.sum \n",
    "    printfn \"Positive polarity of this sentence is %f \" totalPositivity\n",
    "    printfn \"Negative polarity of this sentence is %f \" totalNegativity\n",
    "    if totalPositivity > totalNegativity then 1\n",
    "    elif totalNegativity = totalPositivity then 0\n",
    "    else -1"
   ]
  },
  {
   "cell_type": "code",
   "execution_count": null,
   "metadata": {},
   "outputs": [],
   "source": [
    "getPolarityScore2 (preprocess \"camera was not good\" badCombos okCombos) sentiWordList"
   ]
  },
  {
   "cell_type": "code",
   "execution_count": null,
   "metadata": {},
   "outputs": [],
   "source": [
    "getPolarityScore \"camera was not good\" sentiWordList"
   ]
  },
  {
   "cell_type": "code",
   "execution_count": null,
   "metadata": {},
   "outputs": [],
   "source": [
    "getPolarityScore \"camera was not bad\" sentiWordList"
   ]
  },
  {
   "cell_type": "code",
   "execution_count": null,
   "metadata": {},
   "outputs": [],
   "source": [
    "getPolarityScore2 (preprocess \"camera was not bad\" badCombos okCombos) sentiWordList"
   ]
  },
  {
   "cell_type": "markdown",
   "metadata": {},
   "source": [
    "# Identifying <font color=\"green\">\"_Praise_\"</font> and <font color=\"red\">\"_Criticism_\"</font> "
   ]
  },
  {
   "cell_type": "code",
   "execution_count": null,
   "metadata": {},
   "outputs": [],
   "source": [
    "let prob (list:(string list)list) word = \n",
    "    let matchCount = list |> List.filter (fun z -> z |> List.contains word) |> List.length |> float\n",
    "    matchCount / float list.Length"
   ]
  },
  {
   "cell_type": "code",
   "execution_count": null,
   "metadata": {},
   "outputs": [],
   "source": [
    "let probBoth list w1 w2 = \n",
    "    let matchCount = list |> List.filter(fun z -> z |> List.contains w1 && \n",
    "                                                  z |> List.contains w2)\n",
    "                          |> List.length |> float\n",
    "    matchCount / float list.Length"
   ]
  },
  {
   "cell_type": "code",
   "execution_count": null,
   "metadata": {},
   "outputs": [],
   "source": [
    "//An example usage\n",
    "let lst = [\"A\";\"B\";\"C\"]\n",
    "probBoth [lst;[\"Cx\";\"Dx\"];[\"A\";\"Dx\";\"W\";\"x\";\"X\"];[\"A\";\"Dx\";\"M\";\"C\";\"Z\"]] \"C\" \"Dx\""
   ]
  },
  {
   "cell_type": "markdown",
   "metadata": {},
   "source": [
    "![](https://i.kinja-img.com/gawker-media/image/upload/s--D8pbiLtD--/c_scale,f_auto,fl_progressive,q_80,w_800/qymhr4748b8d8kb6xi4e.jpg)"
   ]
  },
  {
   "cell_type": "markdown",
   "metadata": {},
   "source": [
    "## Semantic Orientation "
   ]
  },
  {
   "cell_type": "markdown",
   "metadata": {},
   "source": [
    "## $$SO(\\omega) = \\sum_{\\omega_p \\in positive-words} A(\\omega,\\omega_p)-\\sum_{\\omega_n \\in negative-words}A(\\omega,\\omega_n)$$"
   ]
  },
  {
   "cell_type": "markdown",
   "metadata": {},
   "source": [
    "## Pointwise Mutual Information"
   ]
  },
  {
   "cell_type": "markdown",
   "metadata": {},
   "source": [
    "## $$PMI(word_1,word_2) = log_2{\\frac{p(word_1 \\,\\& \\, word_2)}{p(word_1) \\bullet p(word_2)}}$$"
   ]
  },
  {
   "cell_type": "code",
   "execution_count": null,
   "metadata": {},
   "outputs": [],
   "source": [
    "let pmi (docs: (string list)list) (word1:string) (word2:string) = \n",
    "    let numerator = probBoth docs word1 word2\n",
    "    let denominator  =  (prob docs word1 ) * (prob docs word2)\n",
    "    if numerator > 0. && denominator > 0. then log(numerator / denominator) else 0."
   ]
  },
  {
   "cell_type": "code",
   "execution_count": null,
   "metadata": {},
   "outputs": [],
   "source": [
    "let pWords = [\"good\";\"nice\";\"excellent\";\"positive\";\"fortunate\";\"correct\";\"superior\"]\n",
    "let nWords = [\"bad\";\"nasty\";\"poor\";\"negative\";\"unfortunate\";\"wrong\";\"inferior\"]\n"
   ]
  },
  {
   "cell_type": "code",
   "execution_count": null,
   "metadata": {},
   "outputs": [],
   "source": [
    "pmi"
   ]
  },
  {
   "cell_type": "code",
   "execution_count": null,
   "metadata": {},
   "outputs": [],
   "source": [
    "let calculateSO (docs :string list list) (words : string list) = \n",
    "    let mutable res = 0.\n",
    "    for  i in 0 .. docs.Length - 1 do \n",
    "        for j in 0 .. docs.[i].Length - 1 do\n",
    "            for pw in words do \n",
    "                res <- res + pmi docs docs.[i].[j] pw\n",
    "    res"
   ]
  },
  {
   "cell_type": "code",
   "execution_count": null,
   "metadata": {},
   "outputs": [],
   "source": [
    "calculateSO"
   ]
  },
  {
   "cell_type": "code",
   "execution_count": null,
   "metadata": {},
   "outputs": [],
   "source": [
    "let soPMI (reviews : string list list list  ) = \n",
    "    let mutable posi = 0.\n",
    "    let mutable negi = 0.\n",
    "    reviews |> List.map (fun docs -> posi <- calculateSO docs pWords\n",
    "                                     negi <- calculateSO docs nWords\n",
    "                                     (docs, posi  - negi))"
   ]
  },
  {
   "cell_type": "code",
   "execution_count": null,
   "metadata": {},
   "outputs": [],
   "source": [
    "soPMI"
   ]
  },
  {
   "cell_type": "code",
   "execution_count": null,
   "metadata": {},
   "outputs": [],
   "source": [
    "soPMI [ \n",
    "        //First review of bank #1\n",
    "        [[\"positive\";\"outlook\"];[\"good\";\"service\"];[\"nice\";\"people\"];[\"bad\";\"location\"]];\n",
    "        //second review of bank #2\n",
    "        [[\"nasty\";\"behaviour\"];[\"unfortunate\";\"outcome\"];[\"poor\";\"quality\"]]\n",
    "    ]"
   ]
  },
  {
   "cell_type": "code",
   "execution_count": null,
   "metadata": {},
   "outputs": [],
   "source": [
    "let review = \"Recently I had to fly round trip from Phoenix to Los Angeles. I have flown America West before and have had a few delays before but nothing like what I just experienced. No one should ever fly this airline again until they get their act together. On the flight out I checked in at the gate and asked if my luggage could be checked through to my final destination since I had to change airlines in Los Angeles. I was told that I could not. Later I found out I could have but it didn't matter anyway since my luggage didn't arrive in Los Angeles to begin with. The real nightmare began at the gate(s). A few minutes before boarding was to begin they announced a gate change to another concourse. Once at the new gate we were informed of another gate change, than another and then another back to the first concourse. Once there we were told the flight was canceled and that we were to go back to the other concourse again to try and get on another flight. Needless to say tempers were high amongst the passengers and the gate personnel were no help at all. They must be bullet proof to customer aggravation and complaints due to so many canceled flights. Of course the next flight was delayed also by about an hour. With all the gate changes and the canceled flight I was not the only one whose luggage did not arrive in Los Angeles. I put in a claim and they found it even though it took them three days to have it delivered to me. My return flight went a little smoother, we only had two delays but then after boarding we sat in the plane 30 minutes before taking off. When passengers asked about compensation for all the hassles and delays they were told nothing would be done. I have been waiting for five weeks now to be reimbursed for the clothing I had to buy while my luggage was missing. Needless to say, I won't be flying this airline again anytime in the future. The funniest part of the ordeal was when a passenger started passing around a newspaper that had America West ranked last in on time flights around the plane. Everyone got a chuckle out of that.\""
   ]
  },
  {
   "cell_type": "code",
   "execution_count": null,
   "metadata": {},
   "outputs": [],
   "source": [
    "review"
   ]
  },
  {
   "cell_type": "code",
   "execution_count": null,
   "metadata": {},
   "outputs": [],
   "source": [
    "let review2 = \"My most recent experience with America West has left a bad taste in my mouth for this Airline. I know that some delays are sometimes inevitable. However, when it becomes the way that an airline does business, it leaves a lot to be desired. I had four segments to my round trip and 3 of those legs were late. This tells me that 75% of the time this airline is either late or does not fulfill its agreement with it's customers. During my trip, I spoke with several customers and the majority seems to have the same experience and opinion that I have. The airline schedules flights that possibly conflict with their capability of getting to the destinations on time and it would seem that all flights in the western part of the US and the international flights have to land in Phoenix, Az. Why can't this airline have more direct nonstop flights from points of origin to final destination. Additionally, the personnel at some of the ticket counters and at the gates seem to have a bad attitude towards the client. Don't they realize that it is the customer who pays their salaries? I cannot totally condemn all of the personnel as I did encounter two of about ten that were quite friendly and helpful. My biggest beef is with the scheduling and the inability of the airline to stay on time. 3 of the 4 segments of my round trip were delayed. I understand that sometimes this is inevitable. However, with America West, this seems to be the way of doing business. This seems to be true both domestically and internationally.\""
   ]
  },
  {
   "cell_type": "code",
   "execution_count": null,
   "metadata": {},
   "outputs": [],
   "source": [
    "review2"
   ]
  },
  {
   "cell_type": "code",
   "execution_count": null,
   "metadata": {},
   "outputs": [],
   "source": [
    "pWords |> List.map (fun pW -> pW, review2.Contains pW)"
   ]
  },
  {
   "cell_type": "code",
   "execution_count": null,
   "metadata": {},
   "outputs": [],
   "source": [
    "nWords |> List.map (fun pW -> pW, review2.Contains pW)"
   ]
  },
  {
   "cell_type": "code",
   "execution_count": null,
   "metadata": {},
   "outputs": [],
   "source": [
    "getPolarityScore review2 sentiWordList"
   ]
  },
  {
   "cell_type": "code",
   "execution_count": null,
   "metadata": {},
   "outputs": [],
   "source": [
    "getPolarityScore review sentiWordList"
   ]
  },
  {
   "cell_type": "code",
   "execution_count": null,
   "metadata": {},
   "outputs": [],
   "source": []
  }
 ],
 "metadata": {
  "kernelspec": {
   "display_name": "F#",
   "language": "fsharp",
   "name": "ifsharp"
  },
  "language": "fsharp",
  "language_info": {
   "codemirror_mode": "",
   "file_extension": ".fs",
   "mimetype": "text/x-fsharp",
   "name": "fsharp",
   "nbconvert_exporter": "",
   "pygments_lexer": "",
   "version": "4.3.1.0"
  }
 },
 "nbformat": 4,
 "nbformat_minor": 2
}
