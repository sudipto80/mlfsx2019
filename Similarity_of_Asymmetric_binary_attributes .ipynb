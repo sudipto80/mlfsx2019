{
 "cells": [
  {
   "cell_type": "markdown",
   "metadata": {},
   "source": [
    "# Similarity of Asymmetric binary attributes "
   ]
  },
  {
   "cell_type": "markdown",
   "metadata": {},
   "source": [
    "![](https://d2r9nfiii89r0l.cloudfront.net/article/images/740x500/dimg/dreamstime_m_94795593.jpg)"
   ]
  },
  {
   "cell_type": "code",
   "execution_count": null,
   "metadata": {},
   "outputs": [],
   "source": [
    "//TODO: Get this experiment done in kNN, and using Proximity Measures\n",
    "//Have scope of feature scaling showcase too \n",
    "//https://www.kaggle.com/annavictoria/speed-dating-experiment"
   ]
  },
  {
   "cell_type": "code",
   "execution_count": null,
   "metadata": {},
   "outputs": [],
   "source": []
  },
  {
   "cell_type": "markdown",
   "metadata": {},
   "source": [
    "| ...   \t| y = 1 \t| ...   \t| ... \t|   \t|\n",
    "|-------\t|-------\t|-------\t|-----\t|---\t|\n",
    "| x = 1 \t| a     \t| b     \t| ..  \t|   \t|\n",
    "| x = 0 \t| c     \t| d     \t| ... \t|   \t|\n",
    "| ...   \t| ...   \t| b + d \t| p   \t|   \t|"
   ]
  },
  {
   "cell_type": "code",
   "execution_count": null,
   "metadata": {},
   "outputs": [],
   "source": [
    "let getABCD(first : string list)(second: string list) =\n",
    "    //Local function to find out number of times \n",
    "    //something matches using filter and then count\n",
    "    let filteredCount  xs pred = xs |> List.filter pred |>  List.length \n",
    "    let all = [first; second] |> List.concat |> List.distinct\n",
    "   \n",
    "    let firstMatches = all |> List.map (fun t -> first |> List.contains t)\n",
    "    let secondMatches = all |> List.map (fun t -> second |> List.contains t)\n",
    "    \n",
    "    let zipped = List.zip firstMatches secondMatches\n",
    "    \n",
    "    let A = filteredCount zipped (fun t -> fst t = true && snd t = true) \n",
    "    let B = filteredCount zipped (fun t -> fst t = false && snd t = true) \n",
    "    let C = filteredCount zipped (fun t -> fst t = true && snd t = false) \n",
    "    let D = filteredCount zipped (fun t -> fst t = false && snd t = false) \n",
    "    \n",
    "    (float A, float B , float C, float D)\n",
    "    "
   ]
  },
  {
   "cell_type": "code",
   "execution_count": null,
   "metadata": {},
   "outputs": [],
   "source": [
    "let filteredLength xs pred = xs |> List.filter pred |>  List.length \n",
    "let pairs = [(1,2) ; (3,4); (4,1); (5,7); (6,11)] \n",
    "filteredLength pairs (fun t -> fst t % 2 = 0 || snd t % 2  = 0)\n",
    "\n",
    "\n",
    "[[\"A\";\"B\";\"C\"];[\"X\";\"C\";\"Z\"]] |> List.concat |> List.distinct"
   ]
  },
  {
   "cell_type": "code",
   "execution_count": null,
   "metadata": {},
   "outputs": [],
   "source": [
    "getABCD (\"shopping,movie,cooking,daily soaps,fair,blue,blond\".Split ',' |> Array.toList)\n",
    "        (\"shopping,movie,biking,cooking,sports,fair,blue,black\".Split ',' |> Array.toList)"
   ]
  },
  {
   "cell_type": "markdown",
   "metadata": {},
   "source": [
    "![](https://userscontent2.emaze.com/thumbnails/p682825.png?201408301629030872)"
   ]
  },
  {
   "cell_type": "markdown",
   "metadata": {},
   "source": [
    "## $$S_{SS1} = \\frac{a}{a+2b+2c}$$"
   ]
  },
  {
   "cell_type": "code",
   "execution_count": null,
   "metadata": {},
   "outputs": [],
   "source": [
    "let ss1 (first : string list) (second : string list ) = \n",
    "    let a, b, c, d = getABCD first second\n",
    "    a / (a + 2. * b + 2. * c)"
   ]
  },
  {
   "cell_type": "code",
   "execution_count": null,
   "metadata": {},
   "outputs": [],
   "source": [
    "ss1"
   ]
  },
  {
   "cell_type": "markdown",
   "metadata": {},
   "source": [
    "## $$S_{SS2} = \\frac{2a+2d}{p+a+d}$$"
   ]
  },
  {
   "cell_type": "code",
   "execution_count": null,
   "metadata": {},
   "outputs": [],
   "source": [
    "let ss2(first : string list) (second : string list ) = \n",
    "    //Left deliberately for you to do \n",
    "    0.0"
   ]
  },
  {
   "cell_type": "markdown",
   "metadata": {},
   "source": [
    "## $$S_{SS3} = \\frac{1}{4} \\bullet  [\\frac{a}{a+b} + \\frac{a}{a + c} + \\frac{d}{b+d} + \\frac{d}{c + d}]$$"
   ]
  },
  {
   "cell_type": "code",
   "execution_count": null,
   "metadata": {},
   "outputs": [],
   "source": [
    "let ss3(first : string list) (second : string list ) = \n",
    "    let a, b, c, d = getABCD first second\n",
    "    if d <> 0. then \n",
    "        0.25 * ( a/ (a+b)  +  a/ (a+c) +  d/ (b+d) +  d/ (c+d))\n",
    "    else \n",
    "        0.25 * ( a/ (a+b)  +  a/ (a+c))\n",
    "        "
   ]
  },
  {
   "cell_type": "markdown",
   "metadata": {},
   "source": [
    "## $$S_{SS4} = \\frac{a}{\\sqrt{(a+b)(a+c)}} \\bullet \\frac{d}{\\sqrt{(b+d)(c+d)}}$$"
   ]
  },
  {
   "cell_type": "code",
   "execution_count": null,
   "metadata": {},
   "outputs": [],
   "source": [
    "let ss4(first : string list) (second : string list ) = \n",
    "    let a, b, c, d = getABCD first second\n",
    "    let left = (float a) / sqrt ((a + b)*(a + c))\n",
    "    let right = (float d) / sqrt ((b + d)*(c + d))\n",
    "    //A sanity check before the possible collapse\n",
    "    if d <> 0. then left * right else left"
   ]
  },
  {
   "cell_type": "markdown",
   "metadata": {},
   "source": [
    "### Amos Tversky\n",
    "![](https://upload.wikimedia.org/wikipedia/en/2/2b/Amos_Tversky.jpg)"
   ]
  },
  {
   "cell_type": "markdown",
   "metadata": {},
   "source": [
    "## $$S(X,Y) = \\frac{\\left | X \\cap Y \\right |}{\\left | X \\cap Y \\right | + \\alpha \\left | X - Y \\right | + \\beta \\left | Y - X \\right|}$$\n",
    "\n",
    "When $$\\alpha = 1$$ and $$\\beta = 1$$ then Tversky Index becomes the Tanimoto Index\n",
    "When $$\\alpha = \\frac{1}{2}$$ and $$\\beta = \\frac{1}{2}$$ then Tversky Index becomes the Dice Coefficient\n",
    "\n"
   ]
  },
  {
   "cell_type": "markdown",
   "metadata": {},
   "source": [
    "### Paul Jaccard\n",
    "![](https://alchetron.com/cdn/paul-jaccard-6a2d045f-fc86-4094-b758-502acb372b6-resize-750.jpeg)"
   ]
  },
  {
   "cell_type": "markdown",
   "metadata": {},
   "source": [
    "Jaccard Index is given by the following formula\n",
    "## $$J(A,B) = \\frac {\\left | A \\cap B \\right |}{\\left | A \\cup B\\right |}$$"
   ]
  },
  {
   "cell_type": "code",
   "execution_count": null,
   "metadata": {},
   "outputs": [],
   "source": [
    "let jaccard (first : string list) (second : string list ) = \n",
    "    let firstSet  = first |> Set.ofList \n",
    "    let secondSet = second |> Set.ofList \n",
    "    let common = Set.intersect firstSet secondSet\n",
    "    let all = Set.union firstSet secondSet\n",
    "    let numerator = common |> Set.count |> float \n",
    "    let denominator = all |> Set.count |> float \n",
    "    numerator / denominator"
   ]
  },
  {
   "cell_type": "markdown",
   "metadata": {},
   "source": [
    "## $$SMC = \\frac{Number\\,of\\,matching\\,Attributes}{Number\\,of\\,Attributes} = \\frac{M_{00} + M_{11}}{M_{00} + M_{01}+ M_{10}\n",
    "+ M_{11}}$$"
   ]
  },
  {
   "cell_type": "code",
   "execution_count": null,
   "metadata": {},
   "outputs": [],
   "source": [
    "let SMC (first : string list) (second : string list ) = \n",
    "    let a, b, c, d = getABCD first second\n",
    "    (a + d)/  (a + b + c + d)"
   ]
  },
  {
   "cell_type": "code",
   "execution_count": null,
   "metadata": {},
   "outputs": [],
   "source": [
    "let tanimoto(first : string list)(second: string list) =\n",
    "    SMC first second"
   ]
  },
  {
   "cell_type": "code",
   "execution_count": null,
   "metadata": {},
   "outputs": [],
   "source": [
    "let first  = \"shopping,movies,cooking,dining,dancing\".Split ',' |> Array.toList |> List.sort\n",
    "let second = \"sports,cooking,movies,dining,racing\".Split ',' |> Array.toList |> List.sort \n",
    "let second2 = first"
   ]
  },
  {
   "cell_type": "code",
   "execution_count": null,
   "metadata": {},
   "outputs": [],
   "source": [
    "let man = \"sports,dining,politics,movies\".Split ',' |> Array.toList |> List.sort\n",
    "let wo1 = \"shopping,dining,politics,cooking,movies\".Split ',' |> Array.toList |> List.sort\n",
    "let wo2 = \"shopping,dining,cooking,movies\".Split ',' |> Array.toList |> List.sort\n",
    "let wo3 = \"dining,horse riding\".Split ',' |> Array.toList |> List.sort\n",
    "printfn \"%f\" (SMC man wo1)\n",
    "printfn \"%f\" (SMC man wo2)\n",
    "printfn \"%f\" (SMC man wo3)"
   ]
  },
  {
   "cell_type": "code",
   "execution_count": null,
   "metadata": {},
   "outputs": [],
   "source": [
    "ss1 first second"
   ]
  },
  {
   "cell_type": "code",
   "execution_count": null,
   "metadata": {},
   "outputs": [],
   "source": [
    "ss4 first second"
   ]
  },
  {
   "cell_type": "code",
   "execution_count": null,
   "metadata": {},
   "outputs": [],
   "source": [
    "jaccard first second"
   ]
  },
  {
   "cell_type": "code",
   "execution_count": null,
   "metadata": {},
   "outputs": [],
   "source": [
    "tanimoto first second"
   ]
  },
  {
   "cell_type": "code",
   "execution_count": null,
   "metadata": {},
   "outputs": [],
   "source": [
    "SMC first second"
   ]
  },
  {
   "cell_type": "code",
   "execution_count": null,
   "metadata": {},
   "outputs": [],
   "source": [
    "((ss3 first second) + (ss1 first second))"
   ]
  },
  {
   "cell_type": "code",
   "execution_count": null,
   "metadata": {},
   "outputs": [],
   "source": [
    "ss1 first second"
   ]
  },
  {
   "cell_type": "code",
   "execution_count": null,
   "metadata": {},
   "outputs": [],
   "source": [
    "ss3 first second"
   ]
  },
  {
   "cell_type": "code",
   "execution_count": null,
   "metadata": {},
   "outputs": [],
   "source": [
    "((ss3 first second) + (ss1 first second))"
   ]
  },
  {
   "cell_type": "code",
   "execution_count": null,
   "metadata": {},
   "outputs": [],
   "source": [
    "ss3 first second"
   ]
  },
  {
   "cell_type": "code",
   "execution_count": null,
   "metadata": {},
   "outputs": [],
   "source": [
    "let s1 = ss1 first second\n",
    "let s3 = ss3 first second\n",
    "let jc = jaccard first second\n",
    "let smc = SMC first second\n",
    "let total = s1 + s3 + jc + smc\n",
    "total"
   ]
  },
  {
   "cell_type": "code",
   "execution_count": null,
   "metadata": {},
   "outputs": [],
   "source": [
    "let otherGuy = \"shopping,cooking,movies,dining,racing\".Split ',' |> Array.toList |> List.sort "
   ]
  },
  {
   "cell_type": "code",
   "execution_count": null,
   "metadata": {},
   "outputs": [],
   "source": [
    "let s1o = ss1 first otherGuy\n",
    "let s3o = ss3 first otherGuy\n",
    "let jco = jaccard first otherGuy\n",
    "let smco = SMC first otherGuy\n",
    "let totalo = s1o + s3o + jco + smco\n",
    "totalo"
   ]
  },
  {
   "cell_type": "code",
   "execution_count": null,
   "metadata": {},
   "outputs": [],
   "source": [
    "totalo/total"
   ]
  },
  {
   "cell_type": "code",
   "execution_count": null,
   "metadata": {},
   "outputs": [],
   "source": [
    "ss1 first second"
   ]
  },
  {
   "cell_type": "code",
   "execution_count": null,
   "metadata": {},
   "outputs": [],
   "source": [
    "ss2 first second"
   ]
  },
  {
   "cell_type": "code",
   "execution_count": null,
   "metadata": {},
   "outputs": [],
   "source": [
    "ss3 first second"
   ]
  },
  {
   "cell_type": "code",
   "execution_count": null,
   "metadata": {},
   "outputs": [],
   "source": [
    "ss4 first second"
   ]
  },
  {
   "cell_type": "code",
   "execution_count": null,
   "metadata": {},
   "outputs": [],
   "source": [
    "jaccard first second"
   ]
  },
  {
   "cell_type": "code",
   "execution_count": null,
   "metadata": {},
   "outputs": [],
   "source": [
    "SMC first second"
   ]
  },
  {
   "cell_type": "code",
   "execution_count": null,
   "metadata": {},
   "outputs": [],
   "source": [
    "tanimoto first second"
   ]
  },
  {
   "cell_type": "code",
   "execution_count": null,
   "metadata": {},
   "outputs": [],
   "source": [
    "tanimoto man wo1"
   ]
  },
  {
   "cell_type": "code",
   "execution_count": null,
   "metadata": {},
   "outputs": [],
   "source": [
    "SMC man wo1"
   ]
  },
  {
   "cell_type": "markdown",
   "metadata": {},
   "source": [
    "### Storing all the similarity measures and their names "
   ]
  },
  {
   "cell_type": "code",
   "execution_count": null,
   "metadata": {},
   "outputs": [],
   "source": [
    "let measures = [\n",
    "                //Name of the index, the function \n",
    "                (\"Jaccard\",jaccard);\n",
    "                (\"Simple Matching\",SMC);\n",
    "                (\"Sokal Sneath #1\",ss1);\n",
    "                (\"Sokal Sneath #3\",ss3);\n",
    "                (\"Sokal Sneath #4\",ss4);\n",
    "                (\"Tanimoto\",tanimoto)\n",
    "              ]"
   ]
  },
  {
   "cell_type": "code",
   "execution_count": null,
   "metadata": {},
   "outputs": [],
   "source": [
    "measures"
   ]
  },
  {
   "cell_type": "code",
   "execution_count": null,
   "metadata": {},
   "outputs": [],
   "source": [
    "second"
   ]
  },
  {
   "cell_type": "code",
   "execution_count": null,
   "metadata": {},
   "outputs": [],
   "source": [
    "measures |> List.map (fun pair -> (fst pair, (snd pair) first second))"
   ]
  },
  {
   "cell_type": "code",
   "execution_count": null,
   "metadata": {},
   "outputs": [],
   "source": [
    "let w1 = measures |> List.map (fun pair -> (fst pair, (snd pair) man wo1))\n",
    "                  |> List.averageBy snd\n",
    "let w2 = measures |> List.map (fun pair -> (fst pair, (snd pair) man wo2))\n",
    "                  |> List.averageBy snd\n",
    "let w3 = measures |> List.map (fun pair -> (fst pair, (snd pair) man wo3))\n",
    "                  |> List.averageBy snd\n",
    "printfn \"%f %f %f\" w1 w2 w3"
   ]
  },
  {
   "cell_type": "markdown",
   "metadata": {},
   "source": [
    "### Sorting potential dates based on their score ( A toy example)"
   ]
  },
  {
   "cell_type": "code",
   "execution_count": null,
   "metadata": {},
   "outputs": [],
   "source": [
    "let potentialDates = [(\"Mary\",wo2);(\"Martha\",wo3);(\"Jennifer\",wo1)]\n",
    "\n",
    "potentialDates |> List.map(fun candidate -> \n",
    "                   (fst candidate, \n",
    "                      (measures |> List.map (fun pair -> \n",
    "                                             (fst pair, (snd pair) man (snd candidate)))\n",
    "                           |> List.averageBy snd)))\n",
    "               |> List.sortByDescending snd"
   ]
  },
  {
   "cell_type": "markdown",
   "metadata": {},
   "source": [
    "### Going one step down to handle the raw data \n",
    "As it might have come in"
   ]
  },
  {
   "cell_type": "code",
   "execution_count": null,
   "metadata": {},
   "outputs": [],
   "source": [
    "//Date candidates and their likes \n",
    "let datesAndLikes = [(\"Jennifer\",\"shopping,dining,politics,cooking,movies\");\n",
    "                     (\"Marry\",\"shopping,dining,cooking,movies\");\n",
    "                     (\"Martha\",\"horse riding,dining\");\n",
    "                     (\"Lori\",\"sports,politics,cooking,movies\")]\n",
    "\n",
    "//Lori is the best date!\n",
    "let potential_dates =  datesAndLikes \n",
    "                     |> List.map(fun pair -> (fst pair,(snd pair).Split ',' |> Array.toList ))\n",
    "                     |> List.map(fun candidate -> \n",
    "                   (fst candidate, \n",
    "                      (measures |> List.map (fun pair -> \n",
    "                                             (fst pair, (snd pair) man (snd candidate)))\n",
    "                           |> List.averageBy snd)))       \n",
    "                    |> List.sortByDescending snd"
   ]
  },
  {
   "cell_type": "code",
   "execution_count": null,
   "metadata": {},
   "outputs": [],
   "source": [
    "let lori = \"dining,sports,politics,cooking,movies\".Split ',' |> Array.toList \n",
    "ss4  lori man\n",
    "man"
   ]
  },
  {
   "cell_type": "code",
   "execution_count": null,
   "metadata": {},
   "outputs": [],
   "source": [
    "potential_dates"
   ]
  },
  {
   "cell_type": "code",
   "execution_count": null,
   "metadata": {},
   "outputs": [],
   "source": [
    "let top2 = potential_dates |> List.map fst |> List.take 2\n",
    "top2"
   ]
  },
  {
   "cell_type": "markdown",
   "metadata": {},
   "source": [
    "## Finding Similar Cookies \n",
    "Using the same theme we can align cookies based on their ingredient list; where each cookie can be represented by a vector storing its ingredient list"
   ]
  },
  {
   "cell_type": "markdown",
   "metadata": {},
   "source": [
    "![](https://3.imimg.com/data3/TG/NO/MY-896459/biscuits-and-cakes-500x500.png)"
   ]
  },
  {
   "cell_type": "code",
   "execution_count": null,
   "metadata": {},
   "outputs": [],
   "source": [
    "let cookieA = [\"refined wheat flour\";\"sugar\";\"edible vegetable oil\";\"edible coconut products\";\n",
    "               \"invert syrup\";\"milk solids\";\"edible starch\";\"raising agent\";\"edible common salt\";\n",
    "               \"baking powder\";\"solbake\";\"emulsifier\"]"
   ]
  },
  {
   "cell_type": "code",
   "execution_count": null,
   "metadata": {},
   "outputs": [],
   "source": [
    "let cookieB = [\"refined wheat flour\";\"cocoa powder\";\"sugar\";\"cocoa butter\";\"dextrose\";\"lecithin\";\"vanillin\";\n",
    "               \"editable vegetable oil\";\"raising agent\";\"cocoa solids\";\"edible common salt\";\"emulsifier\"];\n"
   ]
  },
  {
   "cell_type": "code",
   "execution_count": null,
   "metadata": {},
   "outputs": [],
   "source": [
    "let cookieC = [\"refined wheat flour\";\"sugar\";\"edible vegetable oil\";\"cocoa solids\";\"cocoa butter\";\"dextrose\";\"emulsifier\";\n",
    "                \"editable vegetable fat\";\"desiccated coconut butter\";\"skimmed milk powder\";\"raising agents\";\"vanillin\"]\n"
   ]
  },
  {
   "cell_type": "code",
   "execution_count": null,
   "metadata": {},
   "outputs": [],
   "source": [
    "let cookieD = [\"refined wheat flour\";\"cocoa powder\";\"sugar\";\"cocoa butter\";\"dextrose\";\"lecithin\";\"vanillin\";\n",
    "               \"editable vegetable oil\";\"raising agent\";\"cocoa solids\";\"edible common salt\";\"emulsifier\";\"arrowroot\";\"dough conditioner\"]"
   ]
  },
  {
   "cell_type": "code",
   "execution_count": null,
   "metadata": {},
   "outputs": [],
   "source": [
    "jaccard cookieA cookieD"
   ]
  },
  {
   "cell_type": "markdown",
   "metadata": {},
   "source": [
    "## Aligning _<font color=\"brown\">Cookie</font>_ names as per the matching percentage"
   ]
  },
  {
   "cell_type": "code",
   "execution_count": null,
   "metadata": {},
   "outputs": [],
   "source": [
    "//cookieA -> cookieB,cookieC,cookieD\n",
    "type matchCookie = {Name : string; Self : string list; Peers : int list}\n",
    "let cookieDB  = [(\"cookieA\",cookieA);\n",
    "                 (\"cookieB\",cookieB);\n",
    "                 (\"cookieC\",cookieC);\n",
    "                 (\"cookieD\",cookieD)]\n",
    "                 \n",
    "//Cascaded indexed projections in action\n",
    "\n",
    "cookieDB |> List.mapi (fun i m -> {Name = fst m; Self = snd m; \n",
    "                                   Peers = [0 .. cookieDB.Length - 1] |> List.except [i]})\n",
    "         |> List.mapi (fun i p -> (p.Name, \n",
    "                                   p.Peers |> List.map(fun idx ->\n",
    "                                         (fst cookieDB.[idx], \n",
    "                                          jaccard p.Self (snd cookieDB.[idx]))) \n",
    "                                                  |> List.sortByDescending snd))\n",
    "                                       \n",
    "        //Listing closest pairs of cookies that are made from similar ingredients \n",
    "        |> List.map (fun p -> (fst p, fst (snd p).[0]))\n",
    "        |> List.countBy(fun z -> z)"
   ]
  },
  {
   "cell_type": "code",
   "execution_count": null,
   "metadata": {},
   "outputs": [],
   "source": [
    "ss1 cookieB cookieD"
   ]
  },
  {
   "cell_type": "code",
   "execution_count": null,
   "metadata": {},
   "outputs": [],
   "source": [
    "Set.intersect (cookieD|>Set.ofList)  (cookieB|>Set.ofList) |> Set.count"
   ]
  },
  {
   "cell_type": "code",
   "execution_count": null,
   "metadata": {},
   "outputs": [],
   "source": [
    "Set.union (cookieD|>Set.ofList) (cookieB|>Set.ofList)  |> Set.count"
   ]
  },
  {
   "cell_type": "code",
   "execution_count": null,
   "metadata": {},
   "outputs": [],
   "source": [
    "12./14."
   ]
  },
  {
   "cell_type": "markdown",
   "metadata": {},
   "source": [
    "## Intution for content based filtering. \n",
    "There can be two types of data in the entries. Numerical or categorical. And therefore we need to ensure that for catgorical data we use the jaccard index and for numerical data we use the knn "
   ]
  },
  {
   "cell_type": "markdown",
   "metadata": {},
   "source": [
    "We shall use the following dataset \n",
    "https://www.kaggle.com/yasamini/movie-recommender-system-content-based/data"
   ]
  },
  {
   "cell_type": "code",
   "execution_count": null,
   "metadata": {},
   "outputs": [],
   "source": [
    "type MovieType = {\n",
    "                 //Categorical \n",
    "                  LeadActor : string; \n",
    "                  LeadAcress : string; \n",
    "                  Director : string;\n",
    "                  ProductionHouse : string;\n",
    "                  HasSpecialEffects : string; //YES/NO field \n",
    "                  Tragedy:string;//YES NO\n",
    "                  ShootingLocation: string; //Categorical { to be selected from a list}\n",
    "                  \n",
    "                  //Numerical \n",
    "                  Duration : double; \n",
    "                  Fights: int; //Number of fight sequences in the movie (if at all)\n",
    "                  Chasings: int;\n",
    "                  Romance : int;\n",
    "                    \n",
    "                  \n",
    "                 } "
   ]
  },
  {
   "cell_type": "code",
   "execution_count": null,
   "metadata": {},
   "outputs": [],
   "source": []
  }
 ],
 "metadata": {
  "kernelspec": {
   "display_name": "F#",
   "language": "fsharp",
   "name": "ifsharp"
  },
  "language": "fsharp",
  "language_info": {
   "codemirror_mode": "",
   "file_extension": ".fs",
   "mimetype": "text/x-fsharp",
   "name": "fsharp",
   "nbconvert_exporter": "",
   "pygments_lexer": "",
   "version": "4.3.1.0"
  }
 },
 "nbformat": 4,
 "nbformat_minor": 2
}
